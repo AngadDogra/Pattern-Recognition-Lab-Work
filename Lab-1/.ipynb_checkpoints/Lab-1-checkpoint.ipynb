{
 "cells": [
  {
   "cell_type": "markdown",
   "id": "1fc90090-b64c-469f-ae6c-93bb9f72cb53",
   "metadata": {},
   "source": [
    "# **Lab-1** *Installing Anaconda and Setup Environment*\n",
    "\n",
    "### 1. Install Anaconda\n",
    "### 2. Setup Environment (Install necessary libraries)"
   ]
  },
  {
   "cell_type": "markdown",
   "id": "45b4d6c2-e589-444e-b526-2e49c0117ac4",
   "metadata": {},
   "source": [
    "# What is Anaconda? \n",
    "\n",
    "#### Anaconda is an open-source software that contains Jupyter, spyder, etc that are used for large data processing, data analytics, heavy scientific computing. Anaconda works for R and python programming language. Spyder(sub-application of Anaconda) is used for python. Opencv for python will work in spyder. Package versions are managed by the package management system called conda."
   ]
  },
  {
   "cell_type": "markdown",
   "id": "7e6c33ad-b811-45ea-a43c-b55ab7fffe10",
   "metadata": {},
   "source": [
    "# *Step-1*\n",
    "\n",
    "#### Go to anaconda.com and install the latest version of Anaconda. Make sure to download the “Python 3.7 Version” for the appropriate architecture.\n",
    "\n",
    "#### Getting Started\n",
    "#### Getting through the License Agreement\n",
    "#### Select Installation Type: Select Just Me if you want the software to be used by a single User\n",
    "#### Choose Installation Location"
   ]
  },
  {
   "cell_type": "code",
   "execution_count": 4,
   "id": "bb3a746d-ab1b-41e1-aa9c-5362b5d9392e",
   "metadata": {},
   "outputs": [
    {
     "data": {
      "text/html": [
       "<img src=\"Ananconda-installation-windows-01.jpg\" width=\"1000\" height=\"300\"/>"
      ],
      "text/plain": [
       "<IPython.core.display.Image object>"
      ]
     },
     "execution_count": 4,
     "metadata": {},
     "output_type": "execute_result"
    }
   ],
   "source": [
    "Image(url=\"Ananconda-installation-windows-01.jpg\", width=1000, height=300) "
   ]
  },
  {
   "cell_type": "code",
   "execution_count": 6,
   "id": "efd588d7-fabb-4be9-981c-69b0d92cb713",
   "metadata": {},
   "outputs": [
    {
     "data": {
      "text/html": [
       "<img src=\"Ananconda-installation-windows-06.jpg\" width=\"1000\" height=\"300\"/>"
      ],
      "text/plain": [
       "<IPython.core.display.Image object>"
      ]
     },
     "execution_count": 6,
     "metadata": {},
     "output_type": "execute_result"
    }
   ],
   "source": [
    "Image(url=\"Ananconda-installation-windows-06.jpg\", width=1000, height=300) "
   ]
  },
  {
   "cell_type": "code",
   "execution_count": null,
   "id": "50470bd2-a789-4250-af90-5d3ba37ab8b9",
   "metadata": {},
   "outputs": [],
   "source": []
  }
 ],
 "metadata": {
  "kernelspec": {
   "display_name": "Python 3 (ipykernel)",
   "language": "python",
   "name": "python3"
  },
  "language_info": {
   "codemirror_mode": {
    "name": "ipython",
    "version": 3
   },
   "file_extension": ".py",
   "mimetype": "text/x-python",
   "name": "python",
   "nbconvert_exporter": "python",
   "pygments_lexer": "ipython3",
   "version": "3.9.21"
  }
 },
 "nbformat": 4,
 "nbformat_minor": 5
}
