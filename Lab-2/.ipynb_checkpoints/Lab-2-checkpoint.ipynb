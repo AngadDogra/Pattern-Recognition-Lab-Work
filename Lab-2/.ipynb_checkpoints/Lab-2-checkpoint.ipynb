{
 "cells": [
  {
   "cell_type": "markdown",
   "id": "cbbdcce6-dfc2-4e93-ada6-e5df190aa1f9",
   "metadata": {},
   "source": [
    "# **Lab-2** *Using pandas and numpy*\n",
    "\n",
    "### Use the Pandas library to import a Dataset as a dataframe. \n",
    "### Use the NumPy library to perform operations on the dataframe."
   ]
  },
  {
   "cell_type": "markdown",
   "id": "98a9f498-dc08-4187-a86f-1038a9a4a75f",
   "metadata": {},
   "source": [
    "## 1. *Importing the libraries*"
   ]
  },
  {
   "cell_type": "code",
   "execution_count": 1,
   "id": "d73a9b82-9233-4b3e-9f30-9e2c3560ec02",
   "metadata": {},
   "outputs": [],
   "source": [
    "import pandas as pd \n",
    "import numpy as np "
   ]
  },
  {
   "cell_type": "markdown",
   "id": "5b018061-c281-4399-8c78-72ef161ef4d2",
   "metadata": {},
   "source": [
    "## 2. *Reading the dataset as a dataframe*\n",
    "\n",
    "### I am using the Anxiety attack dataset to load and perform operations, different methods will be used to provide information about the dataset and hence derive insights."
   ]
  },
  {
   "cell_type": "code",
   "execution_count": 2,
   "id": "2ec8bf42-e463-4a7e-a836-1a91980c393e",
   "metadata": {},
   "outputs": [],
   "source": [
    "myDataset = pd.read_csv('../Dataset/anxiety_attack_dataset.csv')\n"
   ]
  },
  {
   "cell_type": "markdown",
   "id": "5c3e0b0e-cb2f-4e4c-bf34-c7f029205a38",
   "metadata": {},
   "source": [
    "## 3. *Printing basic information using the .head() function* "
   ]
  },
  {
   "cell_type": "code",
   "execution_count": 3,
   "id": "053335ad-58e7-482f-a945-a229584730c5",
   "metadata": {},
   "outputs": [
    {
     "data": {
      "text/html": [
       "<div>\n",
       "<style scoped>\n",
       "    .dataframe tbody tr th:only-of-type {\n",
       "        vertical-align: middle;\n",
       "    }\n",
       "\n",
       "    .dataframe tbody tr th {\n",
       "        vertical-align: top;\n",
       "    }\n",
       "\n",
       "    .dataframe thead th {\n",
       "        text-align: right;\n",
       "    }\n",
       "</style>\n",
       "<table border=\"1\" class=\"dataframe\">\n",
       "  <thead>\n",
       "    <tr style=\"text-align: right;\">\n",
       "      <th></th>\n",
       "      <th>ID</th>\n",
       "      <th>Age</th>\n",
       "      <th>Gender</th>\n",
       "      <th>Occupation</th>\n",
       "      <th>Sleep Hours</th>\n",
       "      <th>Physical Activity (hrs/week)</th>\n",
       "      <th>Caffeine Intake (mg/day)</th>\n",
       "      <th>Alcohol Consumption (drinks/week)</th>\n",
       "      <th>Smoking</th>\n",
       "      <th>Family History of Anxiety</th>\n",
       "      <th>Stress Level (1-10)</th>\n",
       "      <th>Heart Rate (bpm during attack)</th>\n",
       "      <th>Breathing Rate (breaths/min)</th>\n",
       "      <th>Sweating Level (1-5)</th>\n",
       "      <th>Dizziness</th>\n",
       "      <th>Medication</th>\n",
       "      <th>Therapy Sessions (per month)</th>\n",
       "      <th>Recent Major Life Event</th>\n",
       "      <th>Diet Quality (1-10)</th>\n",
       "      <th>Severity of Anxiety Attack (1-10)</th>\n",
       "    </tr>\n",
       "  </thead>\n",
       "  <tbody>\n",
       "    <tr>\n",
       "      <th>0</th>\n",
       "      <td>1</td>\n",
       "      <td>56</td>\n",
       "      <td>Female</td>\n",
       "      <td>Other</td>\n",
       "      <td>9.6</td>\n",
       "      <td>8.3</td>\n",
       "      <td>175</td>\n",
       "      <td>6</td>\n",
       "      <td>No</td>\n",
       "      <td>No</td>\n",
       "      <td>4</td>\n",
       "      <td>145</td>\n",
       "      <td>33</td>\n",
       "      <td>3</td>\n",
       "      <td>No</td>\n",
       "      <td>No</td>\n",
       "      <td>4</td>\n",
       "      <td>Yes</td>\n",
       "      <td>9</td>\n",
       "      <td>10</td>\n",
       "    </tr>\n",
       "    <tr>\n",
       "      <th>1</th>\n",
       "      <td>2</td>\n",
       "      <td>46</td>\n",
       "      <td>Male</td>\n",
       "      <td>Teacher</td>\n",
       "      <td>6.4</td>\n",
       "      <td>7.3</td>\n",
       "      <td>97</td>\n",
       "      <td>6</td>\n",
       "      <td>No</td>\n",
       "      <td>No</td>\n",
       "      <td>3</td>\n",
       "      <td>143</td>\n",
       "      <td>18</td>\n",
       "      <td>5</td>\n",
       "      <td>Yes</td>\n",
       "      <td>No</td>\n",
       "      <td>0</td>\n",
       "      <td>No</td>\n",
       "      <td>9</td>\n",
       "      <td>8</td>\n",
       "    </tr>\n",
       "    <tr>\n",
       "      <th>2</th>\n",
       "      <td>3</td>\n",
       "      <td>32</td>\n",
       "      <td>Female</td>\n",
       "      <td>Doctor</td>\n",
       "      <td>6.9</td>\n",
       "      <td>1.0</td>\n",
       "      <td>467</td>\n",
       "      <td>14</td>\n",
       "      <td>No</td>\n",
       "      <td>No</td>\n",
       "      <td>2</td>\n",
       "      <td>60</td>\n",
       "      <td>34</td>\n",
       "      <td>1</td>\n",
       "      <td>No</td>\n",
       "      <td>No</td>\n",
       "      <td>7</td>\n",
       "      <td>Yes</td>\n",
       "      <td>10</td>\n",
       "      <td>5</td>\n",
       "    </tr>\n",
       "    <tr>\n",
       "      <th>3</th>\n",
       "      <td>4</td>\n",
       "      <td>60</td>\n",
       "      <td>Male</td>\n",
       "      <td>Doctor</td>\n",
       "      <td>9.2</td>\n",
       "      <td>3.7</td>\n",
       "      <td>471</td>\n",
       "      <td>16</td>\n",
       "      <td>No</td>\n",
       "      <td>Yes</td>\n",
       "      <td>6</td>\n",
       "      <td>94</td>\n",
       "      <td>19</td>\n",
       "      <td>1</td>\n",
       "      <td>No</td>\n",
       "      <td>Yes</td>\n",
       "      <td>4</td>\n",
       "      <td>Yes</td>\n",
       "      <td>5</td>\n",
       "      <td>8</td>\n",
       "    </tr>\n",
       "    <tr>\n",
       "      <th>4</th>\n",
       "      <td>5</td>\n",
       "      <td>25</td>\n",
       "      <td>Male</td>\n",
       "      <td>Student</td>\n",
       "      <td>9.2</td>\n",
       "      <td>2.5</td>\n",
       "      <td>364</td>\n",
       "      <td>2</td>\n",
       "      <td>No</td>\n",
       "      <td>Yes</td>\n",
       "      <td>7</td>\n",
       "      <td>152</td>\n",
       "      <td>15</td>\n",
       "      <td>4</td>\n",
       "      <td>No</td>\n",
       "      <td>Yes</td>\n",
       "      <td>0</td>\n",
       "      <td>No</td>\n",
       "      <td>1</td>\n",
       "      <td>1</td>\n",
       "    </tr>\n",
       "  </tbody>\n",
       "</table>\n",
       "</div>"
      ],
      "text/plain": [
       "   ID  Age  Gender Occupation  Sleep Hours  Physical Activity (hrs/week)  \\\n",
       "0   1   56  Female      Other          9.6                           8.3   \n",
       "1   2   46    Male    Teacher          6.4                           7.3   \n",
       "2   3   32  Female     Doctor          6.9                           1.0   \n",
       "3   4   60    Male     Doctor          9.2                           3.7   \n",
       "4   5   25    Male    Student          9.2                           2.5   \n",
       "\n",
       "   Caffeine Intake (mg/day)  Alcohol Consumption (drinks/week) Smoking  \\\n",
       "0                       175                                  6      No   \n",
       "1                        97                                  6      No   \n",
       "2                       467                                 14      No   \n",
       "3                       471                                 16      No   \n",
       "4                       364                                  2      No   \n",
       "\n",
       "  Family History of Anxiety  Stress Level (1-10)  \\\n",
       "0                        No                    4   \n",
       "1                        No                    3   \n",
       "2                        No                    2   \n",
       "3                       Yes                    6   \n",
       "4                       Yes                    7   \n",
       "\n",
       "   Heart Rate (bpm during attack)  Breathing Rate (breaths/min)  \\\n",
       "0                             145                            33   \n",
       "1                             143                            18   \n",
       "2                              60                            34   \n",
       "3                              94                            19   \n",
       "4                             152                            15   \n",
       "\n",
       "   Sweating Level (1-5) Dizziness Medication  Therapy Sessions (per month)  \\\n",
       "0                     3        No         No                             4   \n",
       "1                     5       Yes         No                             0   \n",
       "2                     1        No         No                             7   \n",
       "3                     1        No        Yes                             4   \n",
       "4                     4        No        Yes                             0   \n",
       "\n",
       "  Recent Major Life Event  Diet Quality (1-10)  \\\n",
       "0                     Yes                    9   \n",
       "1                      No                    9   \n",
       "2                     Yes                   10   \n",
       "3                     Yes                    5   \n",
       "4                      No                    1   \n",
       "\n",
       "   Severity of Anxiety Attack (1-10)  \n",
       "0                                 10  \n",
       "1                                  8  \n",
       "2                                  5  \n",
       "3                                  8  \n",
       "4                                  1  "
      ]
     },
     "execution_count": 3,
     "metadata": {},
     "output_type": "execute_result"
    }
   ],
   "source": [
    "myDataset.head()"
   ]
  },
  {
   "cell_type": "markdown",
   "id": "9c08e36b-317e-428a-a5c6-1d4a5e186a21",
   "metadata": {},
   "source": [
    "## 4. *Printing the column names of the dataset*"
   ]
  },
  {
   "cell_type": "code",
   "execution_count": 5,
   "id": "293ba0de-0948-4a14-b4a0-af6766a5df26",
   "metadata": {},
   "outputs": [
    {
     "data": {
      "text/plain": [
       "Index(['ID', 'Age', 'Gender', 'Occupation', 'Sleep Hours',\n",
       "       'Physical Activity (hrs/week)', 'Caffeine Intake (mg/day)',\n",
       "       'Alcohol Consumption (drinks/week)', 'Smoking',\n",
       "       'Family History of Anxiety', 'Stress Level (1-10)',\n",
       "       'Heart Rate (bpm during attack)', 'Breathing Rate (breaths/min)',\n",
       "       'Sweating Level (1-5)', 'Dizziness', 'Medication',\n",
       "       'Therapy Sessions (per month)', 'Recent Major Life Event',\n",
       "       'Diet Quality (1-10)', 'Severity of Anxiety Attack (1-10)'],\n",
       "      dtype='object')"
      ]
     },
     "execution_count": 5,
     "metadata": {},
     "output_type": "execute_result"
    }
   ],
   "source": [
    "myDataset.columns"
   ]
  },
  {
   "cell_type": "markdown",
   "id": "fee87764-2510-4520-a67f-7b04385cdb57",
   "metadata": {},
   "source": [
    "## 5. *Using NumPy to create an array from a column of the dataset*\n",
    "#### Creating an array from the 'Age' column of the DataFrame"
   ]
  },
  {
   "cell_type": "code",
   "execution_count": 6,
   "id": "3afddd2f-d98a-4ff6-9b4e-58f9734f94e4",
   "metadata": {},
   "outputs": [
    {
     "name": "stdout",
     "output_type": "stream",
     "text": [
      "[56 46 32 ... 23 52 50]\n"
     ]
    }
   ],
   "source": [
    "array = np.array(myDataset['Age'])\n",
    "\n",
    "print(array)"
   ]
  },
  {
   "cell_type": "markdown",
   "id": "bf0569bb-9130-4781-869e-5a6853671999",
   "metadata": {},
   "source": [
    "## 6. *Using Pandas to read a column as a Series*\n",
    "\n",
    "#### A pandas Series is very similar to a one-dimensional NumPy array, but it has additional functionality that allows values in the Series to be indexed using labels. \n",
    "#### A NumPy array does not have the flexibility to do this. This labeling is useful when you are storing pieces of data that have other data associated with them. \n",
    "#### Say you want to store the ages of students in an online course to eventually figure out the average student age. \n",
    "#### If stored in a NumPy array, you could only access these ages with the internal ndarray indices 0,1,2.... With a Series object, the indices of values are set to 0,1,2... by default, but you can customize the indices to be other values such as student names so an age can be accessed using a name."
   ]
  },
  {
   "cell_type": "code",
   "execution_count": 9,
   "id": "76a221fe-ff03-4ce0-9493-cd15015584a6",
   "metadata": {},
   "outputs": [
    {
     "name": "stdout",
     "output_type": "stream",
     "text": [
      "0        56\n",
      "1        46\n",
      "2        32\n",
      "3        60\n",
      "4        25\n",
      "         ..\n",
      "11995    28\n",
      "11996    49\n",
      "11997    23\n",
      "11998    52\n",
      "11999    50\n",
      "Name: Age, Length: 12000, dtype: int64\n"
     ]
    }
   ],
   "source": [
    "series = pd.Series(myDataset['Age'])\n",
    "print(series)"
   ]
  },
  {
   "cell_type": "markdown",
   "id": "211e3808-5464-4dac-9d5c-dddf3cdb55da",
   "metadata": {},
   "source": [
    "## 7. *Creating a custom data frame using pandas* "
   ]
  },
  {
   "cell_type": "code",
   "execution_count": 15,
   "id": "3afc96c6-7d83-4d52-8fa0-bdfd18668df2",
   "metadata": {},
   "outputs": [
    {
     "name": "stdout",
     "output_type": "stream",
     "text": [
      "         name        address  age\n",
      "0  John Smith    123 Main St   34\n",
      "1    Jane Doe  456 Maple Ave   28\n",
      "2   Joe Schmo   789 Broadway   51\n"
     ]
    }
   ],
   "source": [
    "dataf = pd.DataFrame([\n",
    "    ['John Smith','123 Main St',34],\n",
    "    ['Jane Doe', '456 Maple Ave',28],\n",
    "    ['Joe Schmo', '789 Broadway',51]\n",
    "    ],\n",
    "    columns=['name','address','age'])\n",
    "\n",
    "print(dataf)"
   ]
  },
  {
   "cell_type": "markdown",
   "id": "a2f21538-196f-45eb-9fc4-61bde6023038",
   "metadata": {},
   "source": [
    "## 8. *Changing the index from default to 'name' column, this is only possible in Pandas*"
   ]
  },
  {
   "cell_type": "code",
   "execution_count": 17,
   "id": "e2fca57f-ef84-4197-9142-34e293504c42",
   "metadata": {},
   "outputs": [
    {
     "data": {
      "text/html": [
       "<div>\n",
       "<style scoped>\n",
       "    .dataframe tbody tr th:only-of-type {\n",
       "        vertical-align: middle;\n",
       "    }\n",
       "\n",
       "    .dataframe tbody tr th {\n",
       "        vertical-align: top;\n",
       "    }\n",
       "\n",
       "    .dataframe thead th {\n",
       "        text-align: right;\n",
       "    }\n",
       "</style>\n",
       "<table border=\"1\" class=\"dataframe\">\n",
       "  <thead>\n",
       "    <tr style=\"text-align: right;\">\n",
       "      <th></th>\n",
       "      <th>name</th>\n",
       "      <th>address</th>\n",
       "      <th>age</th>\n",
       "    </tr>\n",
       "  </thead>\n",
       "  <tbody>\n",
       "    <tr>\n",
       "      <th>0</th>\n",
       "      <td>John Smith</td>\n",
       "      <td>123 Main St</td>\n",
       "      <td>34</td>\n",
       "    </tr>\n",
       "    <tr>\n",
       "      <th>1</th>\n",
       "      <td>Jane Doe</td>\n",
       "      <td>456 Maple Ave</td>\n",
       "      <td>28</td>\n",
       "    </tr>\n",
       "    <tr>\n",
       "      <th>2</th>\n",
       "      <td>Joe Schmo</td>\n",
       "      <td>789 Broadway</td>\n",
       "      <td>51</td>\n",
       "    </tr>\n",
       "  </tbody>\n",
       "</table>\n",
       "</div>"
      ],
      "text/plain": [
       "         name        address  age\n",
       "0  John Smith    123 Main St   34\n",
       "1    Jane Doe  456 Maple Ave   28\n",
       "2   Joe Schmo   789 Broadway   51"
      ]
     },
     "execution_count": 17,
     "metadata": {},
     "output_type": "execute_result"
    }
   ],
   "source": [
    "dataf.set_index('name')\n",
    "\n",
    "dataf.head()"
   ]
  },
  {
   "cell_type": "code",
   "execution_count": null,
   "id": "fdd605e9-11ae-4b43-995f-274865bfa6de",
   "metadata": {},
   "outputs": [],
   "source": []
  }
 ],
 "metadata": {
  "kernelspec": {
   "display_name": "Python 3 (ipykernel)",
   "language": "python",
   "name": "python3"
  },
  "language_info": {
   "codemirror_mode": {
    "name": "ipython",
    "version": 3
   },
   "file_extension": ".py",
   "mimetype": "text/x-python",
   "name": "python",
   "nbconvert_exporter": "python",
   "pygments_lexer": "ipython3",
   "version": "3.9.21"
  }
 },
 "nbformat": 4,
 "nbformat_minor": 5
}
